{
 "cells": [
  {
   "cell_type": "markdown",
   "id": "aeadc8ce-936d-4c83-bc3a-646eaec8bcdc",
   "metadata": {},
   "source": [
    "## Web Scraping \n",
    "   1. Parsing using BeautifulSoup\n",
    "   2. Saving the csv file"
   ]
  },
  {
   "cell_type": "code",
   "execution_count": null,
   "id": "635e49fd-249b-44cd-bef2-5019ed4d7bb8",
   "metadata": {},
   "outputs": [],
   "source": [
    "import requests\n",
    "from bs4 import BeautifulSoup\n",
    "import csv"
   ]
  },
  {
   "cell_type": "code",
   "execution_count": 3,
   "id": "c0e7efa0-cc35-4f40-97f2-08f90ea708de",
   "metadata": {},
   "outputs": [],
   "source": [
    "# Since its in text format, convert star-rating text to number\n",
    "def get_star_rating(star_class):\n",
    "    ratings = {\n",
    "        \"One\": 1,\n",
    "        \"Two\": 2,\n",
    "        \"Three\": 3,\n",
    "        \"Four\": 4,\n",
    "        \"Five\": 5\n",
    "    }\n",
    "    for key in ratings:\n",
    "        if key in star_class:\n",
    "            return ratings[key]\n",
    "    return None\n",
    "\n",
    "# Scrape all pages\n",
    "base_url = \"http://books.toscrape.com/catalogue/page-{}.html\"\n",
    "all_books = []\n",
    "\n",
    "for page in range(1, 51):  # 50 pages total\n",
    "    url = base_url.format(page)\n",
    "    response = requests.get(url)\n",
    "    soup = BeautifulSoup(response.content, \"html.parser\")\n",
    "\n",
    "    for book in soup.select(\"article.product_pod\"):\n",
    "        title = book.h3.a[\"title\"]\n",
    "        price = book.select_one(\".price_color\").text.strip()\n",
    "        availability = book.select_one(\".availability\").text.strip()\n",
    "        rating_class = book.select_one(\"p.star-rating\")[\"class\"]\n",
    "        rating = get_star_rating(rating_class)\n",
    "\n",
    "        all_books.append({\n",
    "            \"title\": title,\n",
    "            \"price\": price,\n",
    "            \"availability\": availability,\n",
    "            \"rating\": rating\n",
    "        })\n",
    "\n",
    "# Save raw scraped data to a CSV\n",
    "with open(\"books.csv\", \"w\", newline='', encoding=\"utf-8\") as f:\n",
    "    writer = csv.DictWriter(f, fieldnames=[\"title\", \"price\", \"availability\", \"rating\"])\n",
    "    writer.writeheader()\n",
    "    writer.writerows(all_books)"
   ]
  },
  {
   "cell_type": "code",
   "execution_count": 5,
   "id": "0a490bca-d199-43c2-8e30-fe867a0577bf",
   "metadata": {},
   "outputs": [
    {
     "name": "stdout",
     "output_type": "stream",
     "text": [
      "                                   title   price availability  rating\n",
      "0                   A Light in the Attic  £51.77     In stock       3\n",
      "1                     Tipping the Velvet  £53.74     In stock       1\n",
      "2                             Soumission  £50.10     In stock       1\n",
      "3                          Sharp Objects  £47.82     In stock       4\n",
      "4  Sapiens: A Brief History of Humankind  £54.23     In stock       5\n"
     ]
    }
   ],
   "source": [
    "import pandas as pd\n",
    "\n",
    "df = pd.read_csv(\"books.csv\")\n",
    "print(df.head())"
   ]
  },
  {
   "cell_type": "code",
   "execution_count": 7,
   "id": "5222d549-4b2a-42cc-a490-bdc861ae9258",
   "metadata": {},
   "outputs": [
    {
     "name": "stdout",
     "output_type": "stream",
     "text": [
      "Cleaned data saved to books_cleaned.csv with 1000 records.\n"
     ]
    }
   ],
   "source": [
    "#Cleaning the data into new csv file\n",
    "df = pd.read_csv(\"books.csv\", encoding=\"utf-8\")\n",
    "\n",
    "df['price'] = df['price'].astype(str).replace({r'[^0-9.]': ''}, regex=True)\n",
    "df['price'] = df['price'].astype(float)\n",
    "\n",
    "\n",
    "df['availability'] = df['availability'].str.strip().str.replace(r'\\s*\\(.*\\)', '', regex=True)\n",
    "\n",
    "df.to_csv(\"books_cleaned.csv\", index=False)\n",
    "\n",
    "print(f\"Cleaned data saved to books_cleaned.csv with {len(df)} records.\")"
   ]
  },
  {
   "cell_type": "code",
   "execution_count": 9,
   "id": "7d996f56-5183-4684-ac48-2fd15fb2f380",
   "metadata": {},
   "outputs": [
    {
     "data": {
      "text/html": [
       "<div>\n",
       "<style scoped>\n",
       "    .dataframe tbody tr th:only-of-type {\n",
       "        vertical-align: middle;\n",
       "    }\n",
       "\n",
       "    .dataframe tbody tr th {\n",
       "        vertical-align: top;\n",
       "    }\n",
       "\n",
       "    .dataframe thead th {\n",
       "        text-align: right;\n",
       "    }\n",
       "</style>\n",
       "<table border=\"1\" class=\"dataframe\">\n",
       "  <thead>\n",
       "    <tr style=\"text-align: right;\">\n",
       "      <th></th>\n",
       "      <th>title</th>\n",
       "      <th>price</th>\n",
       "      <th>availability</th>\n",
       "      <th>rating</th>\n",
       "    </tr>\n",
       "  </thead>\n",
       "  <tbody>\n",
       "    <tr>\n",
       "      <th>0</th>\n",
       "      <td>A Light in the Attic</td>\n",
       "      <td>51.77</td>\n",
       "      <td>In stock</td>\n",
       "      <td>3</td>\n",
       "    </tr>\n",
       "    <tr>\n",
       "      <th>1</th>\n",
       "      <td>Tipping the Velvet</td>\n",
       "      <td>53.74</td>\n",
       "      <td>In stock</td>\n",
       "      <td>1</td>\n",
       "    </tr>\n",
       "    <tr>\n",
       "      <th>2</th>\n",
       "      <td>Soumission</td>\n",
       "      <td>50.10</td>\n",
       "      <td>In stock</td>\n",
       "      <td>1</td>\n",
       "    </tr>\n",
       "    <tr>\n",
       "      <th>3</th>\n",
       "      <td>Sharp Objects</td>\n",
       "      <td>47.82</td>\n",
       "      <td>In stock</td>\n",
       "      <td>4</td>\n",
       "    </tr>\n",
       "    <tr>\n",
       "      <th>4</th>\n",
       "      <td>Sapiens: A Brief History of Humankind</td>\n",
       "      <td>54.23</td>\n",
       "      <td>In stock</td>\n",
       "      <td>5</td>\n",
       "    </tr>\n",
       "  </tbody>\n",
       "</table>\n",
       "</div>"
      ],
      "text/plain": [
       "                                   title  price availability  rating\n",
       "0                   A Light in the Attic  51.77     In stock       3\n",
       "1                     Tipping the Velvet  53.74     In stock       1\n",
       "2                             Soumission  50.10     In stock       1\n",
       "3                          Sharp Objects  47.82     In stock       4\n",
       "4  Sapiens: A Brief History of Humankind  54.23     In stock       5"
      ]
     },
     "execution_count": 9,
     "metadata": {},
     "output_type": "execute_result"
    }
   ],
   "source": [
    "df.head()"
   ]
  },
  {
   "cell_type": "code",
   "execution_count": null,
   "id": "2b5eb06f-264a-4c4e-8934-e71be17ae40f",
   "metadata": {},
   "outputs": [],
   "source": []
  }
 ],
 "metadata": {
  "kernelspec": {
   "display_name": "Python 3 (ipykernel)",
   "language": "python",
   "name": "python3"
  },
  "language_info": {
   "codemirror_mode": {
    "name": "ipython",
    "version": 3
   },
   "file_extension": ".py",
   "mimetype": "text/x-python",
   "name": "python",
   "nbconvert_exporter": "python",
   "pygments_lexer": "ipython3",
   "version": "3.12.7"
  }
 },
 "nbformat": 4,
 "nbformat_minor": 5
}
